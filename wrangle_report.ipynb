{
 "cells": [
  {
   "cell_type": "markdown",
   "metadata": {},
   "source": [
    "# Wrangling WeRateDogs Tweets\n",
    "\n",
    "George J.J. Wu\n",
    "\n",
    "The current investigation aims to analyze Twitter user WeRateDogs([@dog_rates](https://twitter.com/dog_rates))'s original ratings of dogs. This paper will document the wrangling efforts that were made toward the goal of the current investigation. The wrangling process took place in three stages: the gathering stage, the assessment stage, and the cleaning stage."
   ]
  },
  {
   "cell_type": "markdown",
   "metadata": {},
   "source": [
    "## Gathering\n",
    "\n",
    "The current investigation gathered data from three sources, as follows:\n",
    "\n",
    "- File on hand: *twitter_archive_enhanced.csv*, which contains basic information for 2,356 tweets from the WeRateDogs Twitter archive. This file was loaded into a table named `tweets_archive`.\n",
    "- File downloaded programmatically from URL: *image_predictions.tsv*, which contains breed information for 2,075 animal images according to a neural network. This file was loaded into a table named `breeds_image`.\n",
    "- File obtained by querying the Twitter API: *tweet_json.txt*, which contains retweet count and favorite count information for 2,345 tweets. This file was loaded into a table named `tweets_info`."
   ]
  },
  {
   "cell_type": "markdown",
   "metadata": {},
   "source": [
    "## Assessment\n",
    "\n",
    "The current investigation proceeded to assessing the gathered data, with exclusive interest in tweets that conform to the following schema:\n",
    "\n",
    "- tweets that contained original ratings, and were not retweets or replies.\n",
    "- tweets that contained an image.\n",
    "- tweets that were about dogs, and were not about hens, turtles, goats, or bears.\n",
    "\n",
    "A combination of visual and programmatical assessments revealed the following issues:\n",
    "\n",
    "### Quality/Content Issues\n",
    "#### `tweets_archive` table\n",
    "- Missing information for *in_reply_to_status_id*, *in_reply_to_user_id*, *retweeted_status_id*, *retweeted_status_user_id*, and *retweeted_status_timestamp* columns.\n",
    "- Missing information for *doggo*, *floofer*, *pupper*, and *puppo* columns are denoted as \"None\", instead of \"NaN\".\n",
    "- Erroneous datatypes for *timestamp*, *retweeted_status_id*, *retweeted_status_user_id*, and *retweeted_status_timestamp* columns.\n",
    "- A number of tweets were not original ratings, as they were either replies or retweets.\n",
    "- Some tweets had decimals in their ratings (eg. 9.75/10), and these ratings were not extracted properly.\n",
    "- Some tweets had two occurrences of \"#/#\" numbers in their text, but the wrong set of \"#/#\" numbers were extracted as the dog ratings.\n",
    "- Two tweets had ratings of 0 (they were about plagiarism).\n",
    "\n",
    "#### `breeds_predict` table\n",
    "- Only have images for 2075 tweets (missing images for some tweets from the `tweets_archive` table).\n",
    "- Some tweets were not actually about dogs, but were about hens, turtles, goats, piglets, and etc.\n",
    "\n",
    "#### `tweets_info` table\n",
    "- Only have retweet count and favorite count information for 2345 tweets (missing information for 11 tweets from the `tweets_archive` table).\n",
    "\n",
    "### Tidiness/Structural Issues\n",
    "- The `tweets_info` table belongs with the `tweets_archive` table.\n",
    "- Columns *doggo*, *floofer*, *pupper*, *puppo* in the `tweets_archive` table belong to a new variable.\n"
   ]
  },
  {
   "cell_type": "markdown",
   "metadata": {},
   "source": [
    "## Cleaning\n",
    "\n",
    "Copies of data were made specifically for the cleaning process. The current investigation attempted to address missing information issues first, followed by tidiness issues, and finally quality issues. Some issues were bundled together so they could be addressed efficiently using similar code blocks. For each issue or issue bundles, the cleaning operation was defined and put into code, then the result of each cleaning operation was tested. "
   ]
  },
  {
   "cell_type": "markdown",
   "metadata": {},
   "source": [
    "## Reflection\n",
    "\n",
    "The current investigation only identified and addressed a small portion of quality and tidiness issues in the gathered dataset. Real-world data such as Twitter information is indeed messy and complex, whereas the data wrangling process is time-consuming and sometimes technically challenging. The current investigation has gained a much deeper appreciation into the efforts that often go into data wrangling before quality data analysis can take place."
   ]
  }
 ],
 "metadata": {
  "kernelspec": {
   "display_name": "Python 3",
   "language": "python",
   "name": "python3"
  },
  "language_info": {
   "codemirror_mode": {
    "name": "ipython",
    "version": 3
   },
   "file_extension": ".py",
   "mimetype": "text/x-python",
   "name": "python",
   "nbconvert_exporter": "python",
   "pygments_lexer": "ipython3",
   "version": "3.6.5"
  }
 },
 "nbformat": 4,
 "nbformat_minor": 2
}
