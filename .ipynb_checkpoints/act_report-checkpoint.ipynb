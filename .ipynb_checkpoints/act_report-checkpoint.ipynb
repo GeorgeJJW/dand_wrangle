{
 "cells": [
  {
   "cell_type": "markdown",
   "metadata": {},
   "source": [
    "# Analyzing WeRateDogs Tweets\n",
    "\n",
    "George J.J. Wu\n",
    "\n"
   ]
  },
  {
   "cell_type": "markdown",
   "metadata": {},
   "source": [
    "Twitter account WeRateDogs ([@dog_rates](https://twitter.com/dog_rates)) has been claiming that they know a lot about dogs. They are claiming that they are professional dog raters, and that most of the dogs they rated were indeed very good. Being a cat person and all, I was not quite convinced, so I grabbed every original tweet that they posted about dogs up to August 2017. I wanted to see for myself just how good these dogs were."
   ]
  },
  {
   "cell_type": "markdown",
   "metadata": {},
   "source": [
    "## So they said..."
   ]
  },
  {
   "cell_type": "markdown",
   "metadata": {},
   "source": [
    "![g12.jpg](https://i.imgur.com/8lRJfBg.jpg)"
   ]
  },
  {
   "cell_type": "markdown",
   "metadata": {},
   "source": [
    "I divided each rating numerator by its rating denominator, and computed a rating ratio for each tweet. I've also excluded the bottom and top 1% of dog ratings as outliers. Most dogs received a rating ratio of 1.0 to 1.2, with relatively few dogs received a rating ratio below 1.0. In other words, most dogs received a rating of more than 10/10. These must have been some really good dogs, or so they said."
   ]
  },
  {
   "cell_type": "markdown",
   "metadata": {},
   "source": [
    "## So did everyone said..."
   ]
  },
  {
   "cell_type": "markdown",
   "metadata": {},
   "source": [
    "| Correlations   | Dog Ratings |\n",
    "|----------------|-------------|\n",
    "| Retweet Count  | 0.3271      |\n",
    "| Favorite Count | 0.4324      |"
   ]
  },
  {
   "cell_type": "markdown",
   "metadata": {},
   "source": [
    "I calculated the Pearson's correlation between dog ratings and retweet count, as well as the correlation between dog ratings and favorite count. It seems that tweets that gave dogs higher ratings tend to be retweeted more often, and tend to be favorited more often. People seem to agree with WeRateDogs' ratings."
   ]
  },
  {
   "cell_type": "markdown",
   "metadata": {},
   "source": [
    "## Only time can tell..."
   ]
  },
  {
   "cell_type": "markdown",
   "metadata": {},
   "source": [
    "![g31.png](https://i.imgur.com/ThCUHqg.png)"
   ]
  },
  {
   "cell_type": "markdown",
   "metadata": {},
   "source": [
    "The mean dog ratings for each month increased steadily. At the end of 2015, most dogs on average received a rating of around 10/10. By August 2017, most dogs on average received a rating of around 13/10. These dogs must have been getting better and better. Only time can tell."
   ]
  }
 ],
 "metadata": {
  "kernelspec": {
   "display_name": "Python 3",
   "language": "python",
   "name": "python3"
  },
  "language_info": {
   "codemirror_mode": {
    "name": "ipython",
    "version": 3
   },
   "file_extension": ".py",
   "mimetype": "text/x-python",
   "name": "python",
   "nbconvert_exporter": "python",
   "pygments_lexer": "ipython3",
   "version": "3.6.5"
  }
 },
 "nbformat": 4,
 "nbformat_minor": 2
}
